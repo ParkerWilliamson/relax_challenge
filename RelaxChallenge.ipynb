{
 "cells": [
  {
   "cell_type": "code",
   "execution_count": 1,
   "metadata": {},
   "outputs": [],
   "source": [
    "#import all the csv data\n",
    "import pandas as pd\n",
    "from datetime import datetime,timedelta"
   ]
  },
  {
   "cell_type": "code",
   "execution_count": 2,
   "metadata": {},
   "outputs": [],
   "source": [
    "#open encoded csv data\n",
    "users = pd.read_csv('takehome_users.csv',encoding=\"ISO-8859-1\")"
   ]
  },
  {
   "cell_type": "code",
   "execution_count": 3,
   "metadata": {},
   "outputs": [
    {
     "name": "stdout",
     "output_type": "stream",
     "text": [
      "   object_id        creation_time               name  \\\n",
      "0          1  2014-04-22 03:53:30     Clausen August   \n",
      "1          2  2013-11-15 03:45:04      Poole Matthew   \n",
      "2          3  2013-03-19 23:14:52  Bottrill Mitchell   \n",
      "3          4  2013-05-21 08:09:28    Clausen Nicklas   \n",
      "4          5  2013-01-17 10:14:20          Raw Grace   \n",
      "\n",
      "                        email creation_source  last_session_creation_time  \\\n",
      "0    AugustCClausen@yahoo.com    GUEST_INVITE                1.398139e+09   \n",
      "1      MatthewPoole@gustr.com      ORG_INVITE                1.396238e+09   \n",
      "2  MitchellBottrill@gustr.com      ORG_INVITE                1.363735e+09   \n",
      "3   NicklasSClausen@yahoo.com    GUEST_INVITE                1.369210e+09   \n",
      "4          GraceRaw@yahoo.com    GUEST_INVITE                1.358850e+09   \n",
      "\n",
      "   opted_in_to_mailing_list  enabled_for_marketing_drip  org_id  \\\n",
      "0                         1                           0      11   \n",
      "1                         0                           0       1   \n",
      "2                         0                           0      94   \n",
      "3                         0                           0       1   \n",
      "4                         0                           0     193   \n",
      "\n",
      "   invited_by_user_id  \n",
      "0             10803.0  \n",
      "1               316.0  \n",
      "2              1525.0  \n",
      "3              5151.0  \n",
      "4              5240.0  \n"
     ]
    }
   ],
   "source": [
    "#take a gander at the data\n",
    "print(users.head())"
   ]
  },
  {
   "cell_type": "code",
   "execution_count": 4,
   "metadata": {},
   "outputs": [],
   "source": [
    "#open the other csv file\n",
    "user_engagement = pd.read_csv('takehome_user_engagement.csv',encoding=\"ISO-8859-1\")\n",
    "user_engagement['time_stamp'] =  pd.to_datetime(user_engagement.time_stamp,format='%Y-%m-%d %X')"
   ]
  },
  {
   "cell_type": "code",
   "execution_count": 5,
   "metadata": {},
   "outputs": [
    {
     "name": "stdout",
     "output_type": "stream",
     "text": [
      "           time_stamp  user_id  visited\n",
      "0 2014-04-22 03:53:30        1        1\n",
      "1 2013-11-15 03:45:04        2        1\n",
      "2 2013-11-29 03:45:04        2        1\n",
      "3 2013-12-09 03:45:04        2        1\n",
      "4 2013-12-25 03:45:04        2        1\n"
     ]
    }
   ],
   "source": [
    "print(user_engagement.head())"
   ]
  },
  {
   "cell_type": "code",
   "execution_count": 6,
   "metadata": {},
   "outputs": [
    {
     "name": "stdout",
     "output_type": "stream",
     "text": [
      "   user_id  active\n",
      "0        1   False\n",
      "1        2   False\n",
      "2        3   False\n",
      "3        4   False\n",
      "4        5   False\n"
     ]
    }
   ],
   "source": [
    "#initiate a new dataframe to extract the active data into\n",
    "UserAdoption = pd.DataFrame(pd.unique(user_engagement.user_id),columns=[\"user_id\"])\n",
    "UserAdoption['active'] = False\n",
    "print(UserAdoption.head())"
   ]
  },
  {
   "cell_type": "code",
   "execution_count": 7,
   "metadata": {},
   "outputs": [],
   "source": [
    "#extra active use data (see if each user has logged in 3 times in a 7 day period)\n",
    "for user, activeStatus in UserAdoption.iterrows():\n",
    "    #print(user)\n",
    "    if len(user_engagement[user_engagement.user_id==user])>3:\n",
    "        minTime_diff = timedelta(days=99)\n",
    "        tempArray = user_engagement[user_engagement.user_id==user].reset_index()\n",
    "        for place in range(len(tempArray)-2):\n",
    "            #print('place: ',place)\n",
    "            #print(tempArray)\n",
    "            time_dif = (tempArray.loc[place+2].time_stamp-tempArray.loc[place].time_stamp)\n",
    "            if (minTime_diff > time_dif):\n",
    "                minTime_diff = time_dif\n",
    "        if minTime_diff <= timedelta(days=7):\n",
    "            UserAdoption.loc[user,'active'] = True"
   ]
  },
  {
   "cell_type": "code",
   "execution_count": 8,
   "metadata": {},
   "outputs": [
    {
     "name": "stdout",
     "output_type": "stream",
     "text": [
      "   user_id  active\n",
      "0        1   False\n",
      "1        2   False\n",
      "2        3    True\n",
      "3        4   False\n",
      "4        5   False\n",
      "8823\n",
      "1199\n"
     ]
    }
   ],
   "source": [
    "#show results to double check they make sense\n",
    "print(UserAdoption.head())\n",
    "print(len(UserAdoption))\n",
    "print(UserAdoption.active.sum())"
   ]
  },
  {
   "cell_type": "markdown",
   "metadata": {},
   "source": [
    "solve to see if user is active from engagement -> only then merge"
   ]
  },
  {
   "cell_type": "code",
   "execution_count": 9,
   "metadata": {},
   "outputs": [],
   "source": [
    "#join the data from the 2 csvs\n",
    "data = users.set_index('object_id').join(UserAdoption.set_index('user_id'),how='inner')"
   ]
  },
  {
   "cell_type": "code",
   "execution_count": 10,
   "metadata": {},
   "outputs": [],
   "source": [
    "#index started from 1 instead of 0\n",
    "data=data.reset_index().drop('index',axis=1)"
   ]
  },
  {
   "cell_type": "code",
   "execution_count": 11,
   "metadata": {},
   "outputs": [
    {
     "name": "stdout",
     "output_type": "stream",
     "text": [
      "         creation_time               name                       email  \\\n",
      "0  2014-04-22 03:53:30     Clausen August    AugustCClausen@yahoo.com   \n",
      "1  2013-11-15 03:45:04      Poole Matthew      MatthewPoole@gustr.com   \n",
      "2  2013-03-19 23:14:52  Bottrill Mitchell  MitchellBottrill@gustr.com   \n",
      "3  2013-05-21 08:09:28    Clausen Nicklas   NicklasSClausen@yahoo.com   \n",
      "4  2013-01-17 10:14:20          Raw Grace          GraceRaw@yahoo.com   \n",
      "\n",
      "  creation_source  last_session_creation_time  opted_in_to_mailing_list  \\\n",
      "0    GUEST_INVITE                1.398139e+09                         1   \n",
      "1      ORG_INVITE                1.396238e+09                         0   \n",
      "2      ORG_INVITE                1.363735e+09                         0   \n",
      "3    GUEST_INVITE                1.369210e+09                         0   \n",
      "4    GUEST_INVITE                1.358850e+09                         0   \n",
      "\n",
      "   enabled_for_marketing_drip  org_id  invited_by_user_id  active  \n",
      "0                           0      11             10803.0   False  \n",
      "1                           0       1               316.0   False  \n",
      "2                           0      94              1525.0    True  \n",
      "3                           0       1              5151.0   False  \n",
      "4                           0     193              5240.0   False  \n"
     ]
    }
   ],
   "source": [
    "print(data.head())"
   ]
  },
  {
   "cell_type": "markdown",
   "metadata": {},
   "source": [
    "Use all but name to predict active"
   ]
  },
  {
   "cell_type": "markdown",
   "metadata": {},
   "source": [
    "need to change formats of these\n",
    "XXX time-> ints\n",
    "XXX name-> elim\n",
    "email-> extract site ->to categorical\n",
    "creation_source-> to categorical"
   ]
  },
  {
   "cell_type": "code",
   "execution_count": 12,
   "metadata": {},
   "outputs": [],
   "source": [
    "#extract date infor into a numeric form\n",
    "data['creation_time'] = pd.to_datetime(data.creation_time,format='%Y-%m-%d %X')\n",
    "data['creation_year'] = pd.Series([date.year for date in data['creation_time']])\n",
    "data['creation_month'] = pd.Series([date.month for date in data['creation_time']])\n",
    "data['creation_day'] = pd.Series([date.day for date in data['creation_time']])\n",
    "data['creation_hour'] = pd.Series([date.hour for date in data['creation_time']])\n",
    "#data['creation_min'] = pd.Series([date.minute for date in data['creation_time']])\n",
    "#data['creation_sec'] = pd.Series([date.second for date in data['creation_time']])"
   ]
  },
  {
   "cell_type": "code",
   "execution_count": 13,
   "metadata": {},
   "outputs": [],
   "source": [
    "#get email provider used\n",
    "import re\n",
    "def extractEmailSite(email=None):\n",
    "    if email != None:\n",
    "        site = re.search('@(.+?)\\.', email).group(1)\n",
    "        return site\n",
    "    else:\n",
    "        return None\n",
    "data['email_site'] = pd.Series([extractEmailSite(email) for email in data['email']])"
   ]
  },
  {
   "cell_type": "code",
   "execution_count": 14,
   "metadata": {},
   "outputs": [],
   "source": [
    "#transform categorical data into an encoded form\n",
    "data['email_site_cat'] = data['email_site'].astype(\"category\").cat.codes\n",
    "data['creation_source_cat'] = data['creation_source'].astype(\"category\").cat.codes"
   ]
  },
  {
   "cell_type": "code",
   "execution_count": 15,
   "metadata": {},
   "outputs": [
    {
     "name": "stdout",
     "output_type": "stream",
     "text": [
      "   last_session_creation_time  opted_in_to_mailing_list  \\\n",
      "0                1.398139e+09                         1   \n",
      "1                1.396238e+09                         0   \n",
      "2                1.363735e+09                         0   \n",
      "3                1.369210e+09                         0   \n",
      "4                1.358850e+09                         0   \n",
      "\n",
      "   enabled_for_marketing_drip  invited_by_user_id  active  creation_year  \\\n",
      "0                           0             10803.0   False           2014   \n",
      "1                           0               316.0   False           2013   \n",
      "2                           0              1525.0    True           2013   \n",
      "3                           0              5151.0   False           2013   \n",
      "4                           0              5240.0   False           2013   \n",
      "\n",
      "   creation_month  creation_day  creation_hour  email_site_cat  \\\n",
      "0               4            22              3             762   \n",
      "1              11            15              3             213   \n",
      "2               3            19             23             213   \n",
      "3               5            21              8             762   \n",
      "4               1            17             10             762   \n",
      "\n",
      "   creation_source_cat  \n",
      "0                    0  \n",
      "1                    1  \n",
      "2                    1  \n",
      "3                    0  \n",
      "4                    0  \n"
     ]
    }
   ],
   "source": [
    "#drop all extra columns\n",
    "encoded_data = data.drop('email_site',axis=1).drop('creation_source',axis=1)\\\n",
    "                   .drop('name',axis=1).drop('creation_time',axis=1)\\\n",
    "                   .drop('email',axis=1).drop('org_id',axis=1)\n",
    "print(encoded_data.head())"
   ]
  },
  {
   "cell_type": "code",
   "execution_count": 16,
   "metadata": {},
   "outputs": [
    {
     "data": {
      "text/plain": [
       "last_session_creation_time       0\n",
       "opted_in_to_mailing_list         0\n",
       "enabled_for_marketing_drip       0\n",
       "invited_by_user_id            4047\n",
       "active                           0\n",
       "creation_year                    0\n",
       "creation_month                   0\n",
       "creation_day                     0\n",
       "creation_hour                    0\n",
       "email_site_cat                   0\n",
       "creation_source_cat              0\n",
       "dtype: int64"
      ]
     },
     "execution_count": 16,
     "metadata": {},
     "output_type": "execute_result"
    }
   ],
   "source": [
    "#check form null values\n",
    "encoded_data.isnull().sum()"
   ]
  },
  {
   "cell_type": "code",
   "execution_count": 17,
   "metadata": {},
   "outputs": [],
   "source": [
    "#eliminate null values, if no user invite then use id=0\n",
    "encoded_data['invited_by_user_id'] = encoded_data['invited_by_user_id'].fillna(value = 0)"
   ]
  },
  {
   "cell_type": "code",
   "execution_count": 18,
   "metadata": {},
   "outputs": [],
   "source": [
    "#import needed functions\n",
    "import matplotlib.pyplot as plt\n",
    "from sklearn.model_selection import train_test_split\n",
    "from sklearn.metrics import classification_report\n",
    "from sklearn.ensemble import RandomForestClassifier\n",
    "import numpy as np"
   ]
  },
  {
   "cell_type": "code",
   "execution_count": 19,
   "metadata": {},
   "outputs": [
    {
     "name": "stdout",
     "output_type": "stream",
     "text": [
      "Training Report\n",
      "             precision    recall  f1-score   support\n",
      "\n",
      "      False       0.97      1.00      0.98      5100\n",
      "       True       1.00      0.81      0.89       811\n",
      "\n",
      "avg / total       0.97      0.97      0.97      5911\n",
      "\n",
      "Testing Report\n",
      "             precision    recall  f1-score   support\n",
      "\n",
      "      False       0.87      0.99      0.93      2524\n",
      "       True       0.22      0.01      0.02       388\n",
      "\n",
      "avg / total       0.78      0.86      0.81      2912\n",
      "\n"
     ]
    }
   ],
   "source": [
    "#randomly split the data into training and test sets\n",
    "X_train, X_test, y_train, y_test = train_test_split(\\\n",
    "    encoded_data.drop('active',axis=1),\\\n",
    "    encoded_data.active, \\\n",
    "    test_size=0.33, \\\n",
    "    random_state=42)\n",
    "\n",
    "#instatiate and train classifier\n",
    "clf = RandomForestClassifier(class_weight='balanced_subsample')\n",
    "#clf = SGDClassifier(loss=\"hinge\", penalty=\"l2\")\n",
    "clf.fit(X_train, y_train)\n",
    "predictions = clf.predict(X_train)\n",
    "\n",
    "print('Training Report')\n",
    "report = classification_report(y_true = np.array(y_train), y_pred = predictions)\n",
    "print(report)\n",
    "print('Testing Report')\n",
    "predictions = clf.predict(X_test)\n",
    "report = classification_report(y_true = np.array(y_test), y_pred = predictions)\n",
    "print(report)"
   ]
  },
  {
   "cell_type": "markdown",
   "metadata": {},
   "source": [
    "Clearly this model is not great on the testing data but it still should show a couple of the most important features."
   ]
  },
  {
   "cell_type": "code",
   "execution_count": 20,
   "metadata": {},
   "outputs": [
    {
     "name": "stdout",
     "output_type": "stream",
     "text": [
      "Feature ranking:\n",
      "1. last_session_creation_time (0.229652)\n",
      "2. creation_day (0.156829)\n",
      "3. creation_hour (0.156120)\n",
      "4. invited_by_user_id (0.128642)\n",
      "5. email_site_cat (0.106289)\n",
      "6. creation_month (0.097155)\n",
      "7. creation_source_cat (0.056067)\n",
      "8. creation_year (0.028481)\n",
      "9. opted_in_to_mailing_list (0.021391)\n",
      "10. enabled_for_marketing_drip (0.019373)\n"
     ]
    },
    {
     "data": {
      "image/png": "[encoded data removed]",
      "text/plain": [
       "<matplotlib.figure.Figure at 0xc29b668>"
      ]
     },
     "metadata": {},
     "output_type": "display_data"
    }
   ],
   "source": [
    "#back calculate which features have the highest predictive importance for retention\n",
    "importances = clf.feature_importances_\n",
    "std = np.std([tree.feature_importances_ for tree in clf.estimators_],\n",
    "             axis=0)\n",
    "indices = np.argsort(importances)[::-1]\n",
    "\n",
    "# Print the feature ranking\n",
    "print(\"Feature ranking:\")\n",
    "\n",
    "for f in range(X_train.shape[1]):\n",
    "    print(\"%d. %s (%f)\" % (f + 1, X_train.columns.values[indices[f]], importances[indices[f]]))\n",
    "    #print(\"%d. %d (%f)\" % (f + 1, indices[f], importances[indices[f]]))\n",
    "\n",
    "    \n",
    "# Plot the feature importances of the forest\n",
    "plt.figure()\n",
    "plt.title(\"Feature importances\")\n",
    "plt.bar(range(X_train.shape[1]), importances[indices],\n",
    "       color=\"r\", yerr=std[indices], align=\"center\")\n",
    "#plt.xticks(X_train.columns.values, indices)\n",
    "plt.xticks(range(X_train.shape[1]), X_train.columns.values[indices],rotation=90)\n",
    "plt.xlim([-1, X_train.shape[1]])\n",
    "plt.show()"
   ]
  },
  {
   "cell_type": "markdown",
   "metadata": {},
   "source": [
    "This shows that the Last session creation time is by far the most important feature. The next is when the account was created and who invited them or if they weren't invited at all. Users of some email sites are more likely to be retained"
   ]
  },
  {
   "cell_type": "code",
   "execution_count": null,
   "metadata": {},
   "outputs": [],
   "source": []
  }
 ],
 "metadata": {
  "kernelspec": {
   "display_name": "Python 3",
   "language": "python",
   "name": "python3"
  },
  "language_info": {
   "codemirror_mode": {
    "name": "ipython",
    "version": 3
   },
   "file_extension": ".py",
   "mimetype": "text/x-python",
   "name": "python",
   "nbconvert_exporter": "python",
   "pygments_lexer": "ipython3",
   "version": "3.6.3"
  }
 },
 "nbformat": 4,
 "nbformat_minor": 2
}
