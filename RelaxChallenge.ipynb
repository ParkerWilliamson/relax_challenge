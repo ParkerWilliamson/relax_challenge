{
 "cells": [
  {
   "cell_type": "code",
   "execution_count": 1,
   "metadata": {},
   "outputs": [],
   "source": [
    "#import all the csv data\n",
    "import pandas as pd\n",
    "from datetime import datetime,timedelta"
   ]
  },
  {
   "cell_type": "code",
   "execution_count": 2,
   "metadata": {},
   "outputs": [],
   "source": [
    "#open encoded csv data\n",
    "users = pd.read_csv('takehome_users.csv',encoding=\"ISO-8859-1\", index_col='object_id')"
   ]
  },
  {
   "cell_type": "code",
   "execution_count": 3,
   "metadata": {},
   "outputs": [
    {
     "name": "stdout",
     "output_type": "stream",
     "text": [
      "                 creation_time               name                       email  \\\n",
      "object_id                                                                       \n",
      "1          2014-04-22 03:53:30     Clausen August    AugustCClausen@yahoo.com   \n",
      "2          2013-11-15 03:45:04      Poole Matthew      MatthewPoole@gustr.com   \n",
      "3          2013-03-19 23:14:52  Bottrill Mitchell  MitchellBottrill@gustr.com   \n",
      "4          2013-05-21 08:09:28    Clausen Nicklas   NicklasSClausen@yahoo.com   \n",
      "5          2013-01-17 10:14:20          Raw Grace          GraceRaw@yahoo.com   \n",
      "\n",
      "          creation_source  last_session_creation_time  \\\n",
      "object_id                                               \n",
      "1            GUEST_INVITE                1.398139e+09   \n",
      "2              ORG_INVITE                1.396238e+09   \n",
      "3              ORG_INVITE                1.363735e+09   \n",
      "4            GUEST_INVITE                1.369210e+09   \n",
      "5            GUEST_INVITE                1.358850e+09   \n",
      "\n",
      "           opted_in_to_mailing_list  enabled_for_marketing_drip  org_id  \\\n",
      "object_id                                                                 \n",
      "1                                 1                           0      11   \n",
      "2                                 0                           0       1   \n",
      "3                                 0                           0      94   \n",
      "4                                 0                           0       1   \n",
      "5                                 0                           0     193   \n",
      "\n",
      "           invited_by_user_id  \n",
      "object_id                      \n",
      "1                     10803.0  \n",
      "2                       316.0  \n",
      "3                      1525.0  \n",
      "4                      5151.0  \n",
      "5                      5240.0  \n"
     ]
    }
   ],
   "source": [
    "#take a gander at the data\n",
    "print(users.head())"
   ]
  },
  {
   "cell_type": "code",
   "execution_count": 4,
   "metadata": {},
   "outputs": [],
   "source": [
    "#open the other csv file\n",
    "user_engagement = pd.read_csv('takehome_user_engagement.csv',encoding=\"ISO-8859-1\")\n",
    "user_engagement['time_stamp'] =  pd.to_datetime(user_engagement.time_stamp,format='%Y-%m-%d %X')"
   ]
  },
  {
   "cell_type": "code",
   "execution_count": 5,
   "metadata": {},
   "outputs": [
    {
     "name": "stdout",
     "output_type": "stream",
     "text": [
      "           time_stamp  user_id  visited\n",
      "0 2014-04-22 03:53:30        1        1\n",
      "1 2013-11-15 03:45:04        2        1\n",
      "2 2013-11-29 03:45:04        2        1\n",
      "3 2013-12-09 03:45:04        2        1\n",
      "4 2013-12-25 03:45:04        2        1\n",
      "5 2013-12-31 03:45:04        2        1\n",
      "6 2014-01-08 03:45:04        2        1\n",
      "7 2014-02-03 03:45:04        2        1\n",
      "8 2014-02-08 03:45:04        2        1\n",
      "9 2014-02-09 03:45:04        2        1\n"
     ]
    }
   ],
   "source": [
    "print(user_engagement.head(10))"
   ]
  },
  {
   "cell_type": "code",
   "execution_count": 6,
   "metadata": {},
   "outputs": [
    {
     "name": "stdout",
     "output_type": "stream",
     "text": [
      "   user_id  active\n",
      "0        1       0\n",
      "1        2       0\n",
      "2        3       0\n",
      "3        4       0\n",
      "4        5       0\n"
     ]
    }
   ],
   "source": [
    "#initiate a new dataframe to extract the active data into\n",
    "UserAdoption = pd.DataFrame(pd.unique(user_engagement.user_id),columns=[\"user_id\"])\n",
    "UserAdoption['active'] = 0\n",
    "print(UserAdoption.head())"
   ]
  },
  {
   "cell_type": "code",
   "execution_count": 7,
   "metadata": {},
   "outputs": [],
   "source": [
    "#extra active use data (see if each user has logged in 3 times in a 7 day period)\n",
    "for user, activeStatus in UserAdoption.iterrows():\n",
    "    #print(user)\n",
    "    if len(user_engagement[user_engagement.user_id==user])>3:\n",
    "        minTime_diff = timedelta(days=99)\n",
    "        tempArray = user_engagement[user_engagement.user_id==user].reset_index()\n",
    "        for place in range(len(tempArray)-2):\n",
    "            #print('place: ',place)\n",
    "            #print(tempArray)\n",
    "            time_dif = (tempArray.loc[place+2].time_stamp-tempArray.loc[place].time_stamp)\n",
    "            if (minTime_diff > time_dif):\n",
    "                minTime_diff = time_dif\n",
    "        if minTime_diff <= timedelta(days=7):\n",
    "            UserAdoption.loc[user,'active'] = 1"
   ]
  },
  {
   "cell_type": "code",
   "execution_count": 8,
   "metadata": {},
   "outputs": [
    {
     "name": "stdout",
     "output_type": "stream",
     "text": [
      "   user_id  active\n",
      "0        1       0\n",
      "1        2       0\n",
      "2        3       1\n",
      "3        4       0\n",
      "4        5       0\n",
      "8823\n",
      "1199\n"
     ]
    }
   ],
   "source": [
    "#show results to double check they make sense\n",
    "print(UserAdoption.head())\n",
    "print(len(UserAdoption))\n",
    "print(UserAdoption.active.sum())"
   ]
  },
  {
   "cell_type": "markdown",
   "metadata": {},
   "source": [
    "solve to see if user is active from engagement -> only then merge"
   ]
  },
  {
   "cell_type": "code",
   "execution_count": 9,
   "metadata": {},
   "outputs": [],
   "source": [
    "#join the data from the 2 csvs\n",
    "data = users.join(UserAdoption,how='inner')#.set_index('user_id'),how='inner')"
   ]
  },
  {
   "cell_type": "code",
   "execution_count": 10,
   "metadata": {},
   "outputs": [
    {
     "name": "stdout",
     "output_type": "stream",
     "text": [
      "         creation_time               name                       email  \\\n",
      "1  2014-04-22 03:53:30     Clausen August    AugustCClausen@yahoo.com   \n",
      "2  2013-11-15 03:45:04      Poole Matthew      MatthewPoole@gustr.com   \n",
      "3  2013-03-19 23:14:52  Bottrill Mitchell  MitchellBottrill@gustr.com   \n",
      "4  2013-05-21 08:09:28    Clausen Nicklas   NicklasSClausen@yahoo.com   \n",
      "5  2013-01-17 10:14:20          Raw Grace          GraceRaw@yahoo.com   \n",
      "\n",
      "  creation_source  last_session_creation_time  opted_in_to_mailing_list  \\\n",
      "1    GUEST_INVITE                1.398139e+09                         1   \n",
      "2      ORG_INVITE                1.396238e+09                         0   \n",
      "3      ORG_INVITE                1.363735e+09                         0   \n",
      "4    GUEST_INVITE                1.369210e+09                         0   \n",
      "5    GUEST_INVITE                1.358850e+09                         0   \n",
      "\n",
      "   enabled_for_marketing_drip  org_id  invited_by_user_id  user_id  active  \n",
      "1                           0      11             10803.0        2       0  \n",
      "2                           0       1               316.0        3       1  \n",
      "3                           0      94              1525.0        4       0  \n",
      "4                           0       1              5151.0        5       0  \n",
      "5                           0     193              5240.0        6       0  \n"
     ]
    }
   ],
   "source": [
    "print(data.head())"
   ]
  },
  {
   "cell_type": "markdown",
   "metadata": {},
   "source": [
    "Use all but name to predict active"
   ]
  },
  {
   "cell_type": "markdown",
   "metadata": {},
   "source": [
    "need to change formats of these\n",
    "XXX time-> ints\n",
    "XXX name-> elim\n",
    "email-> extract site ->to categorical\n",
    "creation_source-> to categorical"
   ]
  },
  {
   "cell_type": "code",
   "execution_count": 11,
   "metadata": {},
   "outputs": [],
   "source": [
    "#extract date infor into a numeric form\n",
    "data['creation_time'] = pd.to_datetime(data.creation_time,format='%Y-%m-%d %X')\n",
    "#data['creation_year'] = pd.Series([date.year for date in data['creation_time']])\n",
    "#data['creation_month'] = pd.Series([date.month for date in data['creation_time']])\n",
    "#data['creation_day'] = pd.Series([date.day for date in data['creation_time']])\n",
    "#data['creation_hour'] = pd.Series([date.hour for date in data['creation_time']])\n",
    "#data['creation_min'] = pd.Series([date.minute for date in data['creation_time']])\n",
    "#data['creation_sec'] = pd.Series([date.second for date in data['creation_time']])"
   ]
  },
  {
   "cell_type": "code",
   "execution_count": 12,
   "metadata": {},
   "outputs": [],
   "source": [
    "#get email provider used\n",
    "import re\n",
    "def extractEmailSite(email=None):\n",
    "    if email != None:\n",
    "        site = re.search('@(.+?)\\.', email).group(1)\n",
    "        return site\n",
    "    else:\n",
    "        return None\n",
    "data['email_site'] = pd.Series([extractEmailSite(email) for email in data['email']])"
   ]
  },
  {
   "cell_type": "code",
   "execution_count": 13,
   "metadata": {},
   "outputs": [],
   "source": [
    "#transform categorical data into an encoded form\n",
    "data['email_site_cat'] = data['email_site'].astype(\"category\").cat.codes\n",
    "data['creation_source_cat'] = data['creation_source'].astype(\"category\").cat.codes"
   ]
  },
  {
   "cell_type": "code",
   "execution_count": 14,
   "metadata": {},
   "outputs": [],
   "source": [
    "# used https://github.com/naveenrc/RelaxChallenge/blob/master/RelaxChallenge.ipynb as a template to find this feature missing from my model and improve results\n",
    "data['last_session_creation_time'] = data['last_session_creation_time'].map(lambda data: datetime.\\\n",
    "                                            fromtimestamp(int(data)).strftime('%Y-%m-%d %H:%M:%S'),na_action='ignore')\n",
    "\n",
    "data['last_session_creation_time'] = pd.to_datetime(data['last_session_creation_time'])\n",
    "\n",
    "data['total_time_used'] = data['last_session_creation_time'] - data['creation_time']\n",
    "\n",
    "data = data[data['total_time_used'] >= timedelta(days=0)]\n",
    "\n",
    "data['total_time_used'] = data['total_time_used'].map(lambda data: data.total_seconds())"
   ]
  },
  {
   "cell_type": "code",
   "execution_count": 15,
   "metadata": {},
   "outputs": [
    {
     "name": "stdout",
     "output_type": "stream",
     "text": [
      "   last_session_creation_time  opted_in_to_mailing_list  \\\n",
      "2         2014-03-30 20:45:04                         0   \n",
      "4         2013-05-22 01:09:28                         0   \n",
      "5         2013-01-22 02:14:20                         0   \n",
      "6         2013-12-18 19:37:06                         0   \n",
      "7         2012-12-20 05:24:32                         0   \n",
      "10        2014-06-03 15:08:03                         1   \n",
      "11        2013-12-26 19:55:54                         0   \n",
      "\n",
      "    enabled_for_marketing_drip  org_id  invited_by_user_id  user_id  active  \\\n",
      "2                            0       1               316.0        3       1   \n",
      "4                            0       1              5151.0        5       0   \n",
      "5                            0     193              5240.0        6       0   \n",
      "6                            0     197             11241.0        7       0   \n",
      "7                            1      37                 NaN       10       0   \n",
      "10                           1     318              4143.0       14       1   \n",
      "11                           0      69                 NaN       17       0   \n",
      "\n",
      "    email_site_cat  creation_source_cat  total_time_used  \n",
      "2              229                    1       11725200.0  \n",
      "4              819                    0          61200.0  \n",
      "5              819                    0         403200.0  \n",
      "6              323                    0         144000.0  \n",
      "7              819                    3         316800.0  \n",
      "10             229                    1       43434000.0  \n",
      "11              96                    3          57600.0  \n"
     ]
    }
   ],
   "source": [
    "#drop all extra columns\n",
    "encoded_data = data.drop('email_site',axis=1).drop('creation_source',axis=1)\\\n",
    "                   .drop('name',axis=1).drop('creation_time',axis=1)\\\n",
    "                   .drop('email',axis=1)\n",
    "print(encoded_data.head(7))"
   ]
  },
  {
   "cell_type": "code",
   "execution_count": 16,
   "metadata": {},
   "outputs": [
    {
     "data": {
      "text/plain": [
       "last_session_creation_time       0\n",
       "opted_in_to_mailing_list         0\n",
       "enabled_for_marketing_drip       0\n",
       "org_id                           0\n",
       "invited_by_user_id            1890\n",
       "user_id                          0\n",
       "active                           0\n",
       "email_site_cat                   0\n",
       "creation_source_cat              0\n",
       "total_time_used                  0\n",
       "dtype: int64"
      ]
     },
     "execution_count": 16,
     "metadata": {},
     "output_type": "execute_result"
    }
   ],
   "source": [
    "#check form null values\n",
    "encoded_data.isnull().sum()"
   ]
  },
  {
   "cell_type": "code",
   "execution_count": 17,
   "metadata": {},
   "outputs": [],
   "source": [
    "#eliminate null values, if no user invite then use id=0\n",
    "encoded_data['invited_by_user_id'].fillna(0, inplace=True)\n",
    "#encoded_data['invited_by_user_id'] = encoded_data['invited_by_user_id'].fillna(value = 0)"
   ]
  },
  {
   "cell_type": "code",
   "execution_count": 18,
   "metadata": {},
   "outputs": [
    {
     "data": {
      "text/plain": [
       "last_session_creation_time    0\n",
       "opted_in_to_mailing_list      0\n",
       "enabled_for_marketing_drip    0\n",
       "org_id                        0\n",
       "invited_by_user_id            0\n",
       "user_id                       0\n",
       "active                        0\n",
       "email_site_cat                0\n",
       "creation_source_cat           0\n",
       "total_time_used               0\n",
       "dtype: int64"
      ]
     },
     "execution_count": 18,
     "metadata": {},
     "output_type": "execute_result"
    }
   ],
   "source": [
    "#check form null values\n",
    "encoded_data.isnull().sum()"
   ]
  },
  {
   "cell_type": "code",
   "execution_count": 19,
   "metadata": {},
   "outputs": [
    {
     "data": {
      "text/plain": [
       "last_session_creation_time    0\n",
       "opted_in_to_mailing_list      0\n",
       "enabled_for_marketing_drip    0\n",
       "org_id                        0\n",
       "invited_by_user_id            0\n",
       "user_id                       0\n",
       "active                        0\n",
       "email_site_cat                0\n",
       "creation_source_cat           0\n",
       "total_time_used               0\n",
       "dtype: int64"
      ]
     },
     "execution_count": 19,
     "metadata": {},
     "output_type": "execute_result"
    }
   ],
   "source": [
    "encoded_data.dropna(axis=0, inplace=True)\n",
    "encoded_data.isnull().sum()"
   ]
  },
  {
   "cell_type": "code",
   "execution_count": 20,
   "metadata": {},
   "outputs": [],
   "source": [
    "#import needed functions\n",
    "import matplotlib.pyplot as plt\n",
    "from sklearn.model_selection import train_test_split\n",
    "from sklearn.metrics import classification_report\n",
    "from sklearn.ensemble import RandomForestClassifier\n",
    "import numpy as np"
   ]
  },
  {
   "cell_type": "code",
   "execution_count": 21,
   "metadata": {},
   "outputs": [
    {
     "name": "stdout",
     "output_type": "stream",
     "text": [
      "1199\n"
     ]
    }
   ],
   "source": [
    "#print(np.mean(predictions))\n",
    "print(np.sum(encoded_data.active))"
   ]
  },
  {
   "cell_type": "code",
   "execution_count": 22,
   "metadata": {},
   "outputs": [
    {
     "name": "stdout",
     "output_type": "stream",
     "text": [
      "   opted_in_to_mailing_list  enabled_for_marketing_drip  org_id  \\\n",
      "2                         0                           0       1   \n",
      "4                         0                           0       1   \n",
      "5                         0                           0     193   \n",
      "6                         0                           0     197   \n",
      "7                         0                           1      37   \n",
      "\n",
      "   invited_by_user_id  user_id  email_site_cat  creation_source_cat  \\\n",
      "2               316.0        3             229                    1   \n",
      "4              5151.0        5             819                    0   \n",
      "5              5240.0        6             819                    0   \n",
      "6             11241.0        7             323                    0   \n",
      "7                 0.0       10             819                    3   \n",
      "\n",
      "   total_time_used  \n",
      "2       11725200.0  \n",
      "4          61200.0  \n",
      "5         403200.0  \n",
      "6         144000.0  \n",
      "7         316800.0  \n"
     ]
    }
   ],
   "source": [
    "X = encoded_data.drop(['active','last_session_creation_time'],axis=1)\n",
    "print(X.head())"
   ]
  },
  {
   "cell_type": "code",
   "execution_count": 23,
   "metadata": {},
   "outputs": [
    {
     "name": "stdout",
     "output_type": "stream",
     "text": [
      "      opted_in_to_mailing_list  enabled_for_marketing_drip  org_id  \\\n",
      "6710                         1                           0     121   \n",
      "2781                         0                           0     360   \n",
      "59                           0                           0     325   \n",
      "7514                         1                           1     279   \n",
      "4111                         0                           0      37   \n",
      "\n",
      "      invited_by_user_id  user_id  email_site_cat  creation_source_cat  \\\n",
      "6710                 0.0     9146             222                    3   \n",
      "2781              9732.0     3780             222                    1   \n",
      "59                   0.0       77             222                    4   \n",
      "7514                 0.0    10218             819                    3   \n",
      "4111                 0.0     5614              96                    3   \n",
      "\n",
      "      total_time_used  \n",
      "6710         147600.0  \n",
      "2781         147600.0  \n",
      "59          7405200.0  \n",
      "7514         147600.0  \n",
      "4111        1270800.0  \n",
      "Training Report\n",
      "             precision    recall  f1-score   support\n",
      "\n",
      "          0       0.99      1.00      1.00      2049\n",
      "          1       1.00      0.98      0.99       803\n",
      "\n",
      "avg / total       0.99      0.99      0.99      2852\n",
      "\n",
      "Testing Report\n",
      "             precision    recall  f1-score   support\n",
      "\n",
      "          0       0.95      0.96      0.95      1009\n",
      "          1       0.90      0.86      0.88       396\n",
      "\n",
      "avg / total       0.93      0.93      0.93      1405\n",
      "\n"
     ]
    }
   ],
   "source": [
    "#randomly split the data into training and test sets\n",
    "X_train, X_test, y_train, y_test = train_test_split(X,\\\n",
    "    encoded_data.active, \\\n",
    "    test_size=0.33, \\\n",
    "    random_state=42,stratify=encoded_data.active)\n",
    "\n",
    "#instatiate and train classifier\n",
    "from sklearn.tree import DecisionTreeClassifier\n",
    "clf = RandomForestClassifier(n_estimators=10,class_weight='balanced_subsample')#DecisionTreeClassifier()\n",
    "print(X_train.head())\n",
    "clf.fit(X_train, y_train)\n",
    "predictions = clf.predict(X_train)\n",
    "\n",
    "print('Training Report')\n",
    "report = classification_report(y_true = np.array(y_train), y_pred = predictions)\n",
    "print(report)\n",
    "print('Testing Report')\n",
    "predictions = clf.predict(X_test)\n",
    "report = classification_report(y_true = np.array(y_test), y_pred = predictions)\n",
    "print(report)"
   ]
  },
  {
   "cell_type": "markdown",
   "metadata": {},
   "source": [
    "Clearly this model is not great on the testing data but it still should show a couple of the most important features."
   ]
  },
  {
   "cell_type": "code",
   "execution_count": 24,
   "metadata": {},
   "outputs": [
    {
     "name": "stdout",
     "output_type": "stream",
     "text": [
      "Feature ranking:\n",
      "1. total_time_used (0.807335)\n",
      "2. user_id (0.056312)\n",
      "3. org_id (0.054565)\n",
      "4. invited_by_user_id (0.033425)\n",
      "5. email_site_cat (0.025504)\n",
      "6. creation_source_cat (0.012397)\n",
      "7. opted_in_to_mailing_list (0.006043)\n",
      "8. enabled_for_marketing_drip (0.004419)\n"
     ]
    },
    {
     "data": {
      "image/png": "[encoded data removed]",
      "text/plain": [
       "<matplotlib.figure.Figure at 0xc224710>"
      ]
     },
     "metadata": {},
     "output_type": "display_data"
    }
   ],
   "source": [
    "#back calculate which features have the highest predictive importance for retention\n",
    "importances = clf.feature_importances_\n",
    "std = np.std([tree.feature_importances_ for tree in clf.estimators_],\n",
    "             axis=0)\n",
    "indices = np.argsort(importances)[::-1]\n",
    "\n",
    "# Print the feature ranking\n",
    "print(\"Feature ranking:\")\n",
    "\n",
    "for f in range(X_train.shape[1]):\n",
    "    print(\"%d. %s (%f)\" % (f + 1, X_train.columns.values[indices[f]], importances[indices[f]]))\n",
    "    #print(\"%d. %d (%f)\" % (f + 1, indices[f], importances[indices[f]]))\n",
    "\n",
    "    \n",
    "# Plot the feature importances of the forest\n",
    "plt.figure()\n",
    "plt.title(\"Feature importances\")\n",
    "plt.bar(range(X_train.shape[1]), importances[indices],\n",
    "       color=\"r\", yerr=std[indices], align=\"center\")\n",
    "#plt.xticks(X_train.columns.values, indices)\n",
    "plt.xticks(range(X_train.shape[1]), X_train.columns.values[indices],rotation=90)\n",
    "plt.xlim([-1, X_train.shape[1]])\n",
    "plt.show()"
   ]
  },
  {
   "cell_type": "markdown",
   "metadata": {},
   "source": [
    "This shows that the Last session creation time is by far the most important feature. The next is when the account was created and who invited them or if they weren't invited at all. Users of some email sites are more likely to be retained"
   ]
  }
 ],
 "metadata": {
  "kernelspec": {
   "display_name": "Python 3",
   "language": "python",
   "name": "python3"
  },
  "language_info": {
   "codemirror_mode": {
    "name": "ipython",
    "version": 3
   },
   "file_extension": ".py",
   "mimetype": "text/x-python",
   "name": "python",
   "nbconvert_exporter": "python",
   "pygments_lexer": "ipython3",
   "version": "3.6.3"
  }
 },
 "nbformat": 4,
 "nbformat_minor": 2
}
